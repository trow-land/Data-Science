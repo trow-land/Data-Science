{
 "cells": [
  {
   "cell_type": "code",
   "execution_count": 5,
   "id": "c204ac72-171e-46c2-89c8-b1410640cd4c",
   "metadata": {},
   "outputs": [],
   "source": [
    "import pandas as pd"
   ]
  },
  {
   "cell_type": "code",
   "execution_count": 6,
   "id": "257cf84c-24f0-4163-b6a4-4027ce01ef79",
   "metadata": {},
   "outputs": [
    {
     "name": "stdout",
     "output_type": "stream",
     "text": [
      "Chunk 0 saved\n",
      "Chunk 1 saved\n",
      "Chunk 2 saved\n",
      "Chunk 3 saved\n",
      "Chunk 4 saved\n",
      "Chunk 5 saved\n",
      "Chunk 6 saved\n",
      "Chunk 7 saved\n",
      "Chunk 8 saved\n"
     ]
    }
   ],
   "source": [
    "chunksize = 1000000\n",
    "\n",
    "# For local upload to snowflake max file size is 250mb\n",
    "for i, chunk in enumerate(pd.read_csv(r\"C:\\Users\\tom_r\\Downloads\\Crimes_-_2001_to_Present_20250306.csv\", chunksize=chunksize)):\n",
    "    chunk.to_csv(rf\"C:\\Users\\tom_r\\Desktop\\data_science\\Data-Science\\Chicago Crime Snowflake\\data\\chicago_crim_chunk_{i}.csv\")\n",
    "    print(f\"Chunk {i} saved\")"
   ]
  },
  {
   "cell_type": "code",
   "execution_count": null,
   "id": "9e952aca-126f-4d23-a5e8-c5d93288958c",
   "metadata": {},
   "outputs": [],
   "source": []
  }
 ],
 "metadata": {
  "kernelspec": {
   "display_name": "Python 3 (ipykernel)",
   "language": "python",
   "name": "python3"
  },
  "language_info": {
   "codemirror_mode": {
    "name": "ipython",
    "version": 3
   },
   "file_extension": ".py",
   "mimetype": "text/x-python",
   "name": "python",
   "nbconvert_exporter": "python",
   "pygments_lexer": "ipython3",
   "version": "3.11.11"
  }
 },
 "nbformat": 4,
 "nbformat_minor": 5
}
