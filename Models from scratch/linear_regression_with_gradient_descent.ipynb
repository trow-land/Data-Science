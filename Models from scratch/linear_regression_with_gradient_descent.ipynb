{
 "cells": [
  {
   "cell_type": "code",
   "execution_count": 33,
   "id": "5d1e32bc-ca38-46e6-aa8a-75cdeb93bd96",
   "metadata": {},
   "outputs": [],
   "source": [
    "import numpy as np\n"
   ]
  },
  {
   "cell_type": "code",
   "execution_count": 34,
   "id": "2d731f24-5d37-4d9b-96eb-eb31f6313907",
   "metadata": {},
   "outputs": [
    {
     "data": {
      "text/plain": [
       "(100, 1)"
      ]
     },
     "execution_count": 34,
     "metadata": {},
     "output_type": "execute_result"
    }
   ],
   "source": [
    "# defining a dataset\n",
    "\n",
    "np.random.seed(0)\n",
    "\n",
    "# generate years of experience values between 0 and 10\n",
    "x = np.random.uniform(0, 10, 100).reshape(-1, 1)\n",
    "\n",
    "# Generate target salary with some noise\n",
    "true_slope = 3.5\n",
    "true_intercept = 20\n",
    "noise = np.random.normal(0, 3, x.shape[0]).reshape(-1, 1)\n",
    "\n",
    "y = true_slope * x + true_intercept + noise\n",
    "\n",
    "y.shape\n"
   ]
  },
  {
   "cell_type": "code",
   "execution_count": 35,
   "id": "4ca9e6d1-05db-4e82-81d7-4ac3f0775242",
   "metadata": {},
   "outputs": [
    {
     "name": "stdout",
     "output_type": "stream",
     "text": [
      "[[5.48813504]\n",
      " [7.15189366]\n",
      " [6.02763376]\n",
      " [5.44883183]\n",
      " [4.23654799]]\n"
     ]
    },
    {
     "data": {
      "text/plain": [
       "(100, 1)"
      ]
     },
     "execution_count": 35,
     "metadata": {},
     "output_type": "execute_result"
    }
   ],
   "source": [
    "print(x[:5])\n",
    "x.shape"
   ]
  },
  {
   "cell_type": "code",
   "execution_count": 36,
   "id": "aaea5f7f-2fc3-4236-87d3-bbff0b99b4e5",
   "metadata": {},
   "outputs": [
    {
     "name": "stdout",
     "output_type": "stream",
     "text": [
      "[[1.         5.48813504]\n",
      " [1.         7.15189366]\n",
      " [1.         6.02763376]\n",
      " [1.         5.44883183]\n",
      " [1.         4.23654799]]\n"
     ]
    },
    {
     "data": {
      "text/plain": [
       "(100, 2)"
      ]
     },
     "execution_count": 36,
     "metadata": {},
     "output_type": "execute_result"
    }
   ],
   "source": [
    "# # add the bias term\n",
    "# X = np.column_stack((np.ones(x.shape[0]), x))\n",
    "# print(X[:5])\n",
    "# X.shape"
   ]
  },
  {
   "cell_type": "code",
   "execution_count": 37,
   "id": "0d63ca7e-e18f-4f7f-b945-b0963f9f2671",
   "metadata": {},
   "outputs": [],
   "source": [
    "bias = 0"
   ]
  },
  {
   "cell_type": "code",
   "execution_count": 38,
   "id": "9901fcb6-2a5f-43a6-ad40-03abe758edcc",
   "metadata": {},
   "outputs": [],
   "source": [
    "# need one weight per feature\n",
    "w = np.zeros((x.shape[1], 1))"
   ]
  },
  {
   "cell_type": "code",
   "execution_count": 41,
   "id": "ceac6cad-eae5-4728-8d5a-bc0fb4e8e2f2",
   "metadata": {},
   "outputs": [],
   "source": [
    "y_pred = np.matmul(x, w) + bias"
   ]
  },
  {
   "cell_type": "code",
   "execution_count": 43,
   "id": "ed8d168c-8301-4303-a1fb-e2721dc58f62",
   "metadata": {},
   "outputs": [],
   "source": [
    "def predictions(x, w, bias):\n",
    "    y_pred = np.matmul(x, w) + bias\n",
    "\n",
    "    return y_pred\n",
    "\n",
    "def compute_loss(y_pred, y_true):\n",
    "\n",
    "    error = y_true - y_pred\n",
    "    mse = np.mean(np.square(error))\n",
    "\n",
    "    return mse\n",
    "    "
   ]
  },
  {
   "cell_type": "code",
   "execution_count": null,
   "id": "e3ad8455-051a-4d91-841c-265eb3a1df1c",
   "metadata": {},
   "outputs": [],
   "source": [
    "def compute_gradients(y_pred, y_true, mse):\n",
    "    "
   ]
  }
 ],
 "metadata": {
  "kernelspec": {
   "display_name": "Python 3 (ipykernel)",
   "language": "python",
   "name": "python3"
  },
  "language_info": {
   "codemirror_mode": {
    "name": "ipython",
    "version": 3
   },
   "file_extension": ".py",
   "mimetype": "text/x-python",
   "name": "python",
   "nbconvert_exporter": "python",
   "pygments_lexer": "ipython3",
   "version": "3.11.11"
  }
 },
 "nbformat": 4,
 "nbformat_minor": 5
}
