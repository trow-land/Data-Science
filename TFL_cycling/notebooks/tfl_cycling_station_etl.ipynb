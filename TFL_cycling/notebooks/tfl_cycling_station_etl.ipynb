{
 "cells": [
  {
   "cell_type": "code",
   "execution_count": 1,
   "id": "27b36762-02f8-4adc-b227-2df225d5b5d2",
   "metadata": {},
   "outputs": [],
   "source": [
    "import pandas as pd\n",
    "from sqlalchemy import create_engine\n",
    "from sqlalchemy.exc import SQLAlchemyError"
   ]
  },
  {
   "cell_type": "code",
   "execution_count": 2,
   "id": "7c56690a-2b9b-4852-8cc9-940ad9852b16",
   "metadata": {},
   "outputs": [
    {
     "data": {
      "text/html": [
       "<div>\n",
       "<style scoped>\n",
       "    .dataframe tbody tr th:only-of-type {\n",
       "        vertical-align: middle;\n",
       "    }\n",
       "\n",
       "    .dataframe tbody tr th {\n",
       "        vertical-align: top;\n",
       "    }\n",
       "\n",
       "    .dataframe thead th {\n",
       "        text-align: right;\n",
       "    }\n",
       "</style>\n",
       "<table border=\"1\" class=\"dataframe\">\n",
       "  <thead>\n",
       "    <tr style=\"text-align: right;\">\n",
       "      <th></th>\n",
       "      <th>Station.Id</th>\n",
       "      <th>StationName</th>\n",
       "      <th>longitude</th>\n",
       "      <th>latitude</th>\n",
       "      <th>Easting</th>\n",
       "      <th>Northing</th>\n",
       "    </tr>\n",
       "  </thead>\n",
       "  <tbody>\n",
       "    <tr>\n",
       "      <th>0</th>\n",
       "      <td>1</td>\n",
       "      <td>River Street, Clerkenwell</td>\n",
       "      <td>-0.109971</td>\n",
       "      <td>51.529200</td>\n",
       "      <td>531202.520</td>\n",
       "      <td>182832.020</td>\n",
       "    </tr>\n",
       "    <tr>\n",
       "      <th>1</th>\n",
       "      <td>2</td>\n",
       "      <td>Phillimore Gardens, Kensington</td>\n",
       "      <td>-0.197574</td>\n",
       "      <td>51.499600</td>\n",
       "      <td>525207.070</td>\n",
       "      <td>179391.860</td>\n",
       "    </tr>\n",
       "    <tr>\n",
       "      <th>2</th>\n",
       "      <td>3</td>\n",
       "      <td>Christopher Street, Liverpool Street</td>\n",
       "      <td>-0.0846057</td>\n",
       "      <td>51.521300</td>\n",
       "      <td>532984.810</td>\n",
       "      <td>182001.530</td>\n",
       "    </tr>\n",
       "    <tr>\n",
       "      <th>3</th>\n",
       "      <td>4</td>\n",
       "      <td>St. Chad's Street, King's Cross</td>\n",
       "      <td>-0.120974</td>\n",
       "      <td>51.530100</td>\n",
       "      <td>530436.760</td>\n",
       "      <td>182911.990</td>\n",
       "    </tr>\n",
       "    <tr>\n",
       "      <th>4</th>\n",
       "      <td>5</td>\n",
       "      <td>Sedding Street, Sloane Square</td>\n",
       "      <td>-0.156876</td>\n",
       "      <td>51.493100</td>\n",
       "      <td>528051.649</td>\n",
       "      <td>178742.097</td>\n",
       "    </tr>\n",
       "    <tr>\n",
       "      <th>...</th>\n",
       "      <td>...</td>\n",
       "      <td>...</td>\n",
       "      <td>...</td>\n",
       "      <td>...</td>\n",
       "      <td>...</td>\n",
       "      <td>...</td>\n",
       "    </tr>\n",
       "    <tr>\n",
       "      <th>809</th>\n",
       "      <td>847</td>\n",
       "      <td>South Bermondsey Station, Bermondsey</td>\n",
       "      <td>-0.0577746</td>\n",
       "      <td>51.488067</td>\n",
       "      <td>534945.000</td>\n",
       "      <td>178357.000</td>\n",
       "    </tr>\n",
       "    <tr>\n",
       "      <th>810</th>\n",
       "      <td>848</td>\n",
       "      <td>Hariss Academy, Bermondsey</td>\n",
       "      <td>-0.0723507</td>\n",
       "      <td>51.492668</td>\n",
       "      <td>533920.000</td>\n",
       "      <td>178842.000</td>\n",
       "    </tr>\n",
       "    <tr>\n",
       "      <th>811</th>\n",
       "      <td>849</td>\n",
       "      <td>Crimscott Street, Bermondsey</td>\n",
       "      <td>-0.078893</td>\n",
       "      <td>51.495598</td>\n",
       "      <td>533457.000</td>\n",
       "      <td>179156.000</td>\n",
       "    </tr>\n",
       "    <tr>\n",
       "      <th>812</th>\n",
       "      <td>850</td>\n",
       "      <td>Brandon Street, Walworth</td>\n",
       "      <td>-0.0915489</td>\n",
       "      <td>51.489102</td>\n",
       "      <td>532597.000</td>\n",
       "      <td>178410.000</td>\n",
       "    </tr>\n",
       "    <tr>\n",
       "      <th>813</th>\n",
       "      <td>851</td>\n",
       "      <td>The Blue, Bermondsey</td>\n",
       "      <td>-0.0625131</td>\n",
       "      <td>51.492221</td>\n",
       "      <td>534604.000</td>\n",
       "      <td>178810.000</td>\n",
       "    </tr>\n",
       "  </tbody>\n",
       "</table>\n",
       "<p>814 rows × 6 columns</p>\n",
       "</div>"
      ],
      "text/plain": [
       "     Station.Id                           StationName    longitude   latitude  \\\n",
       "0             1             River Street, Clerkenwell    -0.109971  51.529200   \n",
       "1             2        Phillimore Gardens, Kensington    -0.197574  51.499600   \n",
       "2             3  Christopher Street, Liverpool Street   -0.0846057  51.521300   \n",
       "3             4       St. Chad's Street, King's Cross    -0.120974  51.530100   \n",
       "4             5         Sedding Street, Sloane Square    -0.156876  51.493100   \n",
       "..          ...                                   ...          ...        ...   \n",
       "809         847  South Bermondsey Station, Bermondsey   -0.0577746  51.488067   \n",
       "810         848            Hariss Academy, Bermondsey   -0.0723507  51.492668   \n",
       "811         849          Crimscott Street, Bermondsey    -0.078893  51.495598   \n",
       "812         850              Brandon Street, Walworth   -0.0915489  51.489102   \n",
       "813         851                  The Blue, Bermondsey   -0.0625131  51.492221   \n",
       "\n",
       "        Easting    Northing  \n",
       "0    531202.520  182832.020  \n",
       "1    525207.070  179391.860  \n",
       "2    532984.810  182001.530  \n",
       "3    530436.760  182911.990  \n",
       "4    528051.649  178742.097  \n",
       "..          ...         ...  \n",
       "809  534945.000  178357.000  \n",
       "810  533920.000  178842.000  \n",
       "811  533457.000  179156.000  \n",
       "812  532597.000  178410.000  \n",
       "813  534604.000  178810.000  \n",
       "\n",
       "[814 rows x 6 columns]"
      ]
     },
     "execution_count": 2,
     "metadata": {},
     "output_type": "execute_result"
    }
   ],
   "source": [
    "df = pd.read_csv(r\"C:\\Users\\tom_r\\Desktop\\crime data\\Data-Science\\TFL_cycling\\data\\FOI-1797-2223.csv\")\n",
    "df"
   ]
  },
  {
   "cell_type": "code",
   "execution_count": 3,
   "id": "2fe9445d-7dee-494c-aa3b-1ba12f101fa1",
   "metadata": {},
   "outputs": [
    {
     "name": "stdout",
     "output_type": "stream",
     "text": [
      "<class 'pandas.core.frame.DataFrame'>\n",
      "RangeIndex: 814 entries, 0 to 813\n",
      "Data columns (total 6 columns):\n",
      " #   Column       Non-Null Count  Dtype  \n",
      "---  ------       --------------  -----  \n",
      " 0   Station.Id   814 non-null    int64  \n",
      " 1   StationName  814 non-null    object \n",
      " 2   longitude    814 non-null    object \n",
      " 3   latitude     814 non-null    float64\n",
      " 4   Easting      814 non-null    float64\n",
      " 5   Northing     814 non-null    float64\n",
      "dtypes: float64(3), int64(1), object(2)\n",
      "memory usage: 38.3+ KB\n"
     ]
    }
   ],
   "source": [
    "df.info()"
   ]
  },
  {
   "cell_type": "code",
   "execution_count": 4,
   "id": "81482d0c-3890-4f2e-a6e1-7e62f041e67a",
   "metadata": {},
   "outputs": [],
   "source": [
    "# convert station name to string datatype\n",
    "df['StationName'] = df['StationName'].astype(\"string\")"
   ]
  },
  {
   "cell_type": "code",
   "execution_count": 6,
   "id": "1daecc2b-f12f-40cf-8079-631ab9ed4951",
   "metadata": {},
   "outputs": [],
   "source": [
    "# convert long and lat to numeric datatypes\n",
    "df['longitude'] = pd.to_numeric(df['longitude'])\n",
    "df['latitude'] = pd.to_numeric(df['latitude'])\n"
   ]
  },
  {
   "cell_type": "code",
   "execution_count": 7,
   "id": "e7905c2e-a25a-4382-a1f4-618ebd11df64",
   "metadata": {},
   "outputs": [
    {
     "name": "stdout",
     "output_type": "stream",
     "text": [
      "<class 'pandas.core.frame.DataFrame'>\n",
      "RangeIndex: 814 entries, 0 to 813\n",
      "Data columns (total 6 columns):\n",
      " #   Column       Non-Null Count  Dtype  \n",
      "---  ------       --------------  -----  \n",
      " 0   Station.Id   814 non-null    int64  \n",
      " 1   StationName  814 non-null    string \n",
      " 2   longitude    814 non-null    float64\n",
      " 3   latitude     814 non-null    float64\n",
      " 4   Easting      814 non-null    float64\n",
      " 5   Northing     814 non-null    float64\n",
      "dtypes: float64(4), int64(1), string(1)\n",
      "memory usage: 38.3 KB\n"
     ]
    }
   ],
   "source": [
    "df.info()"
   ]
  },
  {
   "cell_type": "code",
   "execution_count": 8,
   "id": "c137e2c9-0f37-40ac-af90-fc507b52a3b3",
   "metadata": {},
   "outputs": [
    {
     "name": "stdout",
     "output_type": "stream",
     "text": [
      "Station.Id     0\n",
      "StationName    0\n",
      "longitude      0\n",
      "latitude       0\n",
      "Easting        0\n",
      "Northing       0\n",
      "dtype: int64\n"
     ]
    }
   ],
   "source": [
    "print(df.isna().sum())"
   ]
  },
  {
   "cell_type": "code",
   "execution_count": 9,
   "id": "921dc2b1-7730-4f28-bff4-be85a45ec606",
   "metadata": {},
   "outputs": [
    {
     "data": {
      "text/plain": [
       "814"
      ]
     },
     "execution_count": 9,
     "metadata": {},
     "output_type": "execute_result"
    }
   ],
   "source": [
    "DB_USER = \"postgres\"\n",
    "DB_PASSWORD = \"\"  # populate when using\n",
    "DB_HOST = \"localhost\" \n",
    "DB_PORT = \"5432\"\n",
    "DB_NAME = \"tfl_cycling\"\n",
    "\n",
    "engine = create_engine(f\"postgresql://{DB_USER}:{DB_PASSWORD}@{DB_HOST}:{DB_PORT}/{DB_NAME}\")\n",
    "conn = engine.connect()\n",
    "\n",
    "df.to_sql(\"stations\", engine, if_exists=\"replace\", index=False)"
   ]
  },
  {
   "cell_type": "code",
   "execution_count": 10,
   "id": "2041e0c1-3589-4f0d-b4c3-44dca58ce9f2",
   "metadata": {},
   "outputs": [
    {
     "name": "stdout",
     "output_type": "stream",
     "text": [
      "success\n"
     ]
    }
   ],
   "source": [
    "print(\"success\")"
   ]
  },
  {
   "cell_type": "code",
   "execution_count": null,
   "id": "59f7c2ae-0462-4d14-abed-013801a0ac9a",
   "metadata": {},
   "outputs": [],
   "source": []
  }
 ],
 "metadata": {
  "kernelspec": {
   "display_name": "Python 3 (ipykernel)",
   "language": "python",
   "name": "python3"
  },
  "language_info": {
   "codemirror_mode": {
    "name": "ipython",
    "version": 3
   },
   "file_extension": ".py",
   "mimetype": "text/x-python",
   "name": "python",
   "nbconvert_exporter": "python",
   "pygments_lexer": "ipython3",
   "version": "3.11.11"
  }
 },
 "nbformat": 4,
 "nbformat_minor": 5
}
