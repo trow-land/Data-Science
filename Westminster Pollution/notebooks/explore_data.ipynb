{
 "cells": [
  {
   "cell_type": "code",
   "execution_count": null,
   "id": "b02cc24f-ce7b-414b-968b-aefde945b223",
   "metadata": {},
   "outputs": [],
   "source": [
    "import pandas as pd\n",
    "import logging\n",
    "import matplotlib.pyplot as plt\n",
    "import seaborn as sns"
   ]
  },
  {
   "cell_type": "code",
   "execution_count": null,
   "id": "c23b557f-8a6b-4d06-a338-30443aa88262",
   "metadata": {},
   "outputs": [],
   "source": [
    "# load data\n",
    "\n",
    "# marylebone street\n",
    "mar = pd.read_csv(r\"C:\\Users\\tom_r\\Desktop\\data_science\\Data-Science\\Westminster Pollution\\data\\LaqnData_marylebone_road.csv\")\n",
    "\n",
    "# oxford street\n",
    "oxf = pd.read_csv(r\"C:\\Users\\tom_r\\Desktop\\data_science\\Data-Science\\Westminster Pollution\\data\\LaqnData_oxford_street.csv\")\n",
    "\n",
    "# elizabeth bridge\n",
    "eli = pd.read_csv(r\"C:\\Users\\tom_r\\Desktop\\data_science\\Data-Science\\Westminster Pollution\\data\\LaqnData_elizabeth_bridge.csv\")\n",
    "\n",
    "# covent garden\n",
    "cov = pd.read_csv(r\"C:\\Users\\tom_r\\Desktop\\data_science\\Data-Science\\Westminster Pollution\\data\\LaqnData_covent_garden.csv\")"
   ]
  },
  {
   "cell_type": "code",
   "execution_count": null,
   "id": "8423938a-9756-4ece-b029-10fd934700e4",
   "metadata": {},
   "outputs": [],
   "source": [
    "mar['Site'] = 'marylebone'\n",
    "oxf['Site'] = 'oxford street'\n",
    "eli['Site'] = 'elizabeth bridge'\n",
    "cov['Site'] = 'covent garden'"
   ]
  },
  {
   "cell_type": "code",
   "execution_count": null,
   "id": "de5e8376-8f47-4a4f-ada7-717f5cb6022b",
   "metadata": {},
   "outputs": [],
   "source": [
    "data = [mar, oxf, eli, cov]\n",
    "\n",
    "for d in data:\n",
    "    print(d.info())"
   ]
  },
  {
   "cell_type": "code",
   "execution_count": null,
   "id": "66a7e777-b97b-43b2-a5d9-6a2599c0d2a1",
   "metadata": {},
   "outputs": [],
   "source": [
    "# drop unneeded column\n",
    "for d in data:\n",
    "    d.drop(columns=['Provisional or Ratified'], inplace=True)\n",
    "    print(d.head(1))\n",
    "    print(d['Species'].value_counts())"
   ]
  },
  {
   "cell_type": "code",
   "execution_count": null,
   "id": "f05b583d-1bc1-4e33-bf03-b810b87edf5c",
   "metadata": {},
   "outputs": [],
   "source": [
    "eli.head()"
   ]
  },
  {
   "cell_type": "code",
   "execution_count": null,
   "id": "6adc6608-20a9-4384-9c5d-7064727ef6c0",
   "metadata": {},
   "outputs": [],
   "source": [
    "oxf.head()"
   ]
  },
  {
   "cell_type": "code",
   "execution_count": null,
   "id": "27f9d3db-89d4-4fb4-9c91-f053c941553e",
   "metadata": {},
   "outputs": [],
   "source": [
    "# Change datetime formats\n",
    "for d in data:\n",
    "    d['ReadingDateTime'] = pd.to_datetime(d['ReadingDateTime'], format=\"%d/%m/%Y %H:%M\")\n"
   ]
  },
  {
   "cell_type": "code",
   "execution_count": null,
   "id": "a86dabb4-4090-4cef-88f3-1b2b0bdcd1e8",
   "metadata": {},
   "outputs": [],
   "source": [
    "# combine datasets\n",
    "df = pd.concat(data)\n",
    "df.info()"
   ]
  },
  {
   "cell_type": "code",
   "execution_count": null,
   "id": "acde84b2-615f-4f34-9b53-9d3507f247f6",
   "metadata": {},
   "outputs": [],
   "source": [
    "# convert remaining datatypes\n",
    "df['Site'] = df['Site'].astype('category')\n",
    "df['Species'] = df['Species'].astype('category')\n",
    "df['Units'] = df['Units'].astype('category')\n",
    "df['Value'] = pd.to_numeric(df['Value'], errors='coerce')"
   ]
  },
  {
   "cell_type": "code",
   "execution_count": null,
   "id": "77ef250e-3fb9-4989-ac7e-7bec1592e5a2",
   "metadata": {},
   "outputs": [],
   "source": [
    "df.info()"
   ]
  },
  {
   "cell_type": "code",
   "execution_count": null,
   "id": "8b8864a9-8949-4b0c-ae86-3e8de3e5ace5",
   "metadata": {},
   "outputs": [],
   "source": [
    "# deal with nan values\n",
    "for col in df.columns.values:\n",
    "    print(col, df[col].isna().sum())"
   ]
  },
  {
   "cell_type": "code",
   "execution_count": null,
   "id": "1a407521-c4a1-4d1b-9af1-ff983b1d93d2",
   "metadata": {},
   "outputs": [],
   "source": [
    "nan = df[df['Value'].isna() == True]\n",
    "nan"
   ]
  },
  {
   "cell_type": "code",
   "execution_count": null,
   "id": "dd0c788e-0555-47d9-ae31-93ff97b7b120",
   "metadata": {},
   "outputs": [],
   "source": [
    "nan['Species'].value_counts()"
   ]
  },
  {
   "cell_type": "code",
   "execution_count": null,
   "id": "16012bf2-9c44-4591-8fe7-9ceff1d47dd2",
   "metadata": {},
   "outputs": [],
   "source": [
    "# As analysis is mainly going to focus on common species NO, NO2 and NOX nan valued rows will be dropped\n",
    "df = df.dropna(subset=['Value'])\n",
    "df = df.reset_index(drop=True)"
   ]
  },
  {
   "cell_type": "code",
   "execution_count": null,
   "id": "19b9a3cb-de9d-47db-b32c-f0e284198f5e",
   "metadata": {},
   "outputs": [],
   "source": [
    "# plot to see site trends throughout the year for Nitrous Oxide\n",
    "\n",
    "no = df[df['Species'] == 'NO']\n",
    "no['ReadingDateTime'] = pd.to_datetime(no['ReadingDateTime'])  # ensure type\n",
    "no.set_index('ReadingDateTime', inplace=True)\n",
    "\n",
    "weekly_no = no.groupby('Site').resample('W')['Value'].mean().reset_index()\n",
    "\n",
    "fig, ax = plt.subplots(figsize=(20, 6))\n",
    "plt.title(\"Nitrous Oxides Trend in 2024\")\n",
    "plt.xlabel('Date')\n",
    "plt.ylabel('Reading Value (mg m-3')\n",
    "sns.lineplot(data=weekly_no, x='ReadingDateTime', y='Value', hue='Site')\n",
    "plt.show()"
   ]
  },
  {
   "cell_type": "code",
   "execution_count": null,
   "id": "e3e4858c-39c2-4ffa-a9f3-100675e132fb",
   "metadata": {},
   "outputs": [],
   "source": [
    "# Plot just Elizabeth bridge for Nitrous Oxide, Nitrous Dioxide and Oxides of Nitrogen\n",
    "\n",
    "eb_species = ['NO', 'NO2', 'NOX']\n",
    "\n",
    "eb = (df[df['Site']=='elizabeth bridge']\n",
    "      .set_index('ReadingDateTime')\n",
    "      .groupby('Species')\n",
    "      .resample('W')['Value']\n",
    "      .mean().reset_index())\n",
    "\n",
    "eb = eb[eb['Species'].isin(eb_species)]\n",
    "eb['Species'] = eb['Species'].cat.remove_unused_categories()\n",
    "\n",
    "print(eb['Species'].unique())\n",
    "print(len(eb))"
   ]
  },
  {
   "cell_type": "code",
   "execution_count": null,
   "id": "3c4b18c2-49c4-45e5-b605-57eb95e66b06",
   "metadata": {},
   "outputs": [],
   "source": [
    "fig, ax = plt.subplots(figsize=(20,6))\n",
    "plt.title(\"Nitrous Pollutions in Elizabeth Bridge 2024\")\n",
    "plt.xlabel('Date')\n",
    "plt.ylabel('Reading Value (mg m-3')\n",
    "sns.lineplot(data=eb, x='ReadingDateTime', y='Value', hue='Species')"
   ]
  },
  {
   "cell_type": "code",
   "execution_count": null,
   "id": "03d64acd-8de3-4713-92ea-a85ac875d4f0",
   "metadata": {},
   "outputs": [],
   "source": []
  }
 ],
 "metadata": {
  "kernelspec": {
   "display_name": "Python 3 (ipykernel)",
   "language": "python",
   "name": "python3"
  },
  "language_info": {
   "codemirror_mode": {
    "name": "ipython",
    "version": 3
   },
   "file_extension": ".py",
   "mimetype": "text/x-python",
   "name": "python",
   "nbconvert_exporter": "python",
   "pygments_lexer": "ipython3",
   "version": "3.11.11"
  }
 },
 "nbformat": 4,
 "nbformat_minor": 5
}
